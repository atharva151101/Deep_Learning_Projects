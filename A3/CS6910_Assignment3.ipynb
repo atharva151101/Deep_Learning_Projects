{
 "cells": [
  {
   "cell_type": "code",
   "execution_count": 8,
   "metadata": {},
   "outputs": [],
   "source": [
    "import pandas as pd\n",
    "import numpy as np\n",
    "import os\n",
    "import shutil"
   ]
  },
  {
   "cell_type": "code",
   "execution_count": 9,
   "metadata": {},
   "outputs": [],
   "source": [
    "image_names=open('image_names.txt','r').read().split()"
   ]
  },
  {
   "cell_type": "code",
   "execution_count": 10,
   "metadata": {},
   "outputs": [],
   "source": [
    "dataset_path=os.path.join(os.getcwd(),'image_captioning_dataset')"
   ]
  },
  {
   "cell_type": "code",
   "execution_count": 11,
   "metadata": {},
   "outputs": [],
   "source": [
    "if not os.path.exists(dataset_path):\n",
    "    os.mkdir(dataset_path)"
   ]
  },
  {
   "cell_type": "code",
   "execution_count": 12,
   "metadata": {},
   "outputs": [
    {
     "name": "stdout",
     "output_type": "stream",
     "text": [
      "40460 40460\n"
     ]
    }
   ],
   "source": [
    "captions=open('captions.txt','r').readlines()\n",
    "captions_temp=open('captions.txt','r').read()\n",
    "count=0\n",
    "for i in captions_temp:\n",
    "    if i=='\\t':\n",
    "        count=count+1\n",
    "print(count,len(captions))"
   ]
  },
  {
   "cell_type": "code",
   "execution_count": 13,
   "metadata": {},
   "outputs": [],
   "source": [
    "captions_sep={}\n",
    "for line in captions:\n",
    "    index=line.find('#')\n",
    "    name=line[0:index]\n",
    "    index=line.find('\\t')\n",
    "    capt=line[index+1:len(line)]\n",
    "    if name not in captions_sep:\n",
    "        captions_sep[name]=[]\n",
    "    captions_sep[name].append(capt)"
   ]
  },
  {
   "cell_type": "code",
   "execution_count": 14,
   "metadata": {},
   "outputs": [],
   "source": [
    "for i in range(len(image_names)):\n",
    "    cap_file=open(dataset_path+'/captions'+str(i)+'.txt','w')\n",
    "    for j in range(len(captions_sep[image_names[i]])):\n",
    "        cap_file.write(captions_sep[image_names[i]][j])\n",
    "    cap_file.close()\n",
    "    shutil.copy('Images/'+image_names[i],dataset_path+'/image'+str(i)+'.jpg')"
   ]
  },
  {
   "cell_type": "code",
   "execution_count": null,
   "metadata": {},
   "outputs": [],
   "source": []
  }
 ],
 "metadata": {
  "kernelspec": {
   "display_name": "Python 3",
   "language": "python",
   "name": "python3"
  },
  "language_info": {
   "codemirror_mode": {
    "name": "ipython",
    "version": 3
   },
   "file_extension": ".py",
   "mimetype": "text/x-python",
   "name": "python",
   "nbconvert_exporter": "python",
   "pygments_lexer": "ipython3",
   "version": "3.8.10"
  }
 },
 "nbformat": 4,
 "nbformat_minor": 4
}
